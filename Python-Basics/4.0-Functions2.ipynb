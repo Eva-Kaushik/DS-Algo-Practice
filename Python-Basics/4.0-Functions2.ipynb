{
 "cells": [
  {
   "cell_type": "code",
   "execution_count": 1,
   "id": "f71fd724",
   "metadata": {},
   "outputs": [
    {
     "name": "stdout",
     "output_type": "stream",
     "text": [
      "True\n",
      "False\n"
     ]
    }
   ],
   "source": [
    "#Check if a string is palindrome or not \n",
    "def is_palindrome(s):\n",
    "    s=s.lower().replace(\" \",\"\")\n",
    "    return s==s[::-1]\n",
    "\n",
    "print(is_palindrome(\"A man a plan a canal Panama\"))\n",
    "print(is_palindrome(\"Hello\"))"
   ]
  },
  {
   "cell_type": "code",
   "execution_count": 2,
   "id": "b9de6f96",
   "metadata": {},
   "outputs": [
    {
     "name": "stdout",
     "output_type": "stream",
     "text": [
      "720\n"
     ]
    }
   ],
   "source": [
    "#Calculate the factorials of a number using recursion\n",
    "def factorial(n):\n",
    "    if n==0:\n",
    "        return 1\n",
    "    else:\n",
    "        return n * factorial(n-1)\n",
    "    \n",
    "print(factorial(6))"
   ]
  },
  {
   "cell_type": "code",
   "execution_count": 3,
   "id": "c36f9d22",
   "metadata": {},
   "outputs": [
    {
     "name": "stdout",
     "output_type": "stream",
     "text": [
      "{'hey': 1, 'all': 1, \"how's\": 1, 'everything': 1, 'going': 1, 'on': 1}\n"
     ]
    }
   ],
   "source": [
    "#A Function To Read A File and count the frequency of each word\n",
    "def count_word_frequency(file_path):\n",
    "    word_count={}\n",
    "    with open(file_path,'r') as file:\n",
    "        for line in file:\n",
    "            words=line.split()\n",
    "            for word in words:\n",
    "                word=word.lower().strip('.,!?;:\"\\'')\n",
    "                word_count[word]=word_count.get(word,0)+1\n",
    "    \n",
    "    return word_count\n",
    "\n",
    "filepath='sample.txt'\n",
    "word_frequency=count_word_frequency(filepath)\n",
    "print(word_frequency)"
   ]
  },
  {
   "cell_type": "code",
   "execution_count": 4,
   "id": "3ec471ee",
   "metadata": {},
   "outputs": [
    {
     "name": "stdout",
     "output_type": "stream",
     "text": [
      "True\n",
      "False\n"
     ]
    }
   ],
   "source": [
    "#Validate email address\n",
    "\n",
    "import re\n",
    "# Email validation function\n",
    "def is_valid_email(email):\n",
    "    \"\"\"This function checks if the email is valid.\"\"\"\n",
    "    pattern = r'^[a-zA-Z0-9_.+-]+@[a-zA-Z0-9-]+\\.[a-zA-Z0-9-.]+$'\n",
    "    return re.match(pattern, email) is not None\n",
    "\n",
    "# Calling the function\n",
    "print(is_valid_email(\"test@example.com\"))  # Output: True\n",
    "print(is_valid_email(\"invalid-email\"))  # Output: False"
   ]
  },
  {
   "cell_type": "markdown",
   "id": "38e9267e",
   "metadata": {},
   "source": [
    "##### Lambda Functions in Python\n",
    "##### Lambda functions are small anonymous functions defined using the **lambda** keyword. They can have any number of arguments but only one expression. They are commonly used for short operations or as arguments to higher-order functions."
   ]
  },
  {
   "cell_type": "code",
   "execution_count": 5,
   "id": "e8c5eb82",
   "metadata": {},
   "outputs": [
    {
     "data": {
      "text/plain": [
       "<function __main__.<lambda>(arguments)>"
      ]
     },
     "execution_count": 5,
     "metadata": {},
     "output_type": "execute_result"
    }
   ],
   "source": [
    "#Syntax\n",
    "lambda arguments: expression"
   ]
  },
  {
   "cell_type": "code",
   "execution_count": 6,
   "id": "3b95ca8c",
   "metadata": {},
   "outputs": [],
   "source": [
    "def addition(a,b):\n",
    "    return a+b"
   ]
  },
  {
   "cell_type": "code",
   "execution_count": 7,
   "id": "d2fe2d4c",
   "metadata": {},
   "outputs": [
    {
     "data": {
      "text/plain": [
       "5"
      ]
     },
     "execution_count": 7,
     "metadata": {},
     "output_type": "execute_result"
    }
   ],
   "source": [
    "addition(2,3)"
   ]
  },
  {
   "cell_type": "code",
   "execution_count": 8,
   "id": "1c915208",
   "metadata": {},
   "outputs": [
    {
     "name": "stdout",
     "output_type": "stream",
     "text": [
      "11\n"
     ]
    }
   ],
   "source": [
    "addition=lambda a,b:a+b\n",
    "type(addition)\n",
    "print(addition(5,6))"
   ]
  },
  {
   "cell_type": "code",
   "execution_count": 9,
   "id": "2994856c",
   "metadata": {},
   "outputs": [
    {
     "data": {
      "text/plain": [
       "True"
      ]
     },
     "execution_count": 9,
     "metadata": {},
     "output_type": "execute_result"
    }
   ],
   "source": [
    "def even(num):\n",
    "    if num%2==0:\n",
    "        return True\n",
    "    \n",
    "even(24)"
   ]
  },
  {
   "cell_type": "code",
   "execution_count": 10,
   "id": "d5733c1b",
   "metadata": {},
   "outputs": [
    {
     "data": {
      "text/plain": [
       "True"
      ]
     },
     "execution_count": 10,
     "metadata": {},
     "output_type": "execute_result"
    }
   ],
   "source": [
    "even1=lambda num:num%2==0\n",
    "even1(12)"
   ]
  },
  {
   "cell_type": "code",
   "execution_count": 11,
   "id": "73f0dbdd",
   "metadata": {},
   "outputs": [
    {
     "data": {
      "text/plain": [
       "39"
      ]
     },
     "execution_count": 11,
     "metadata": {},
     "output_type": "execute_result"
    }
   ],
   "source": [
    "def addition(x,y,z):\n",
    "    return x+y+z\n",
    "\n",
    "addition(12,13,14)"
   ]
  },
  {
   "cell_type": "code",
   "execution_count": 12,
   "id": "a4332127",
   "metadata": {},
   "outputs": [
    {
     "data": {
      "text/plain": [
       "39"
      ]
     },
     "execution_count": 12,
     "metadata": {},
     "output_type": "execute_result"
    }
   ],
   "source": [
    "addition1=lambda x,y,z:x+y+z\n",
    "addition1(12,13,14)"
   ]
  },
  {
   "cell_type": "code",
   "execution_count": 13,
   "id": "842f3578",
   "metadata": {},
   "outputs": [
    {
     "data": {
      "text/plain": [
       "4"
      ]
     },
     "execution_count": 13,
     "metadata": {},
     "output_type": "execute_result"
    }
   ],
   "source": [
    "## map()- applies a function to all items in a list\n",
    "numbers=[1,2,3,4,5,6]\n",
    "def square(number):\n",
    "    return number**2\n",
    "\n",
    "square(2)"
   ]
  },
  {
   "cell_type": "code",
   "execution_count": 14,
   "id": "c76bf45d",
   "metadata": {},
   "outputs": [
    {
     "data": {
      "text/plain": [
       "[1, 4, 9, 16, 25, 36]"
      ]
     },
     "execution_count": 14,
     "metadata": {},
     "output_type": "execute_result"
    }
   ],
   "source": [
    "list(map(lambda x:x**2,numbers))"
   ]
  },
  {
   "cell_type": "markdown",
   "id": "47780d7b",
   "metadata": {},
   "source": [
    "#### The map() Function in Python\n",
    "The map() function applies a given function to all items in an input list (or any other iterable) and returns a map object (an iterator). This is particularly useful for transforming data in a list comprehensively."
   ]
  },
  {
   "cell_type": "code",
   "execution_count": 15,
   "id": "b94e72a1",
   "metadata": {},
   "outputs": [
    {
     "data": {
      "text/plain": [
       "100"
      ]
     },
     "execution_count": 15,
     "metadata": {},
     "output_type": "execute_result"
    }
   ],
   "source": [
    "def square(x):\n",
    "    return x*x\n",
    "\n",
    "square(10)"
   ]
  },
  {
   "cell_type": "code",
   "execution_count": 16,
   "id": "262818e8",
   "metadata": {},
   "outputs": [
    {
     "data": {
      "text/plain": [
       "[1, 4, 9, 16, 25, 36, 49, 64]"
      ]
     },
     "execution_count": 16,
     "metadata": {},
     "output_type": "execute_result"
    }
   ],
   "source": [
    "numbers=[1,2,3,4,5,6,7,8]\n",
    "\n",
    "list(map(square,numbers))\n"
   ]
  },
  {
   "cell_type": "code",
   "execution_count": 17,
   "id": "dd168e07",
   "metadata": {},
   "outputs": [
    {
     "data": {
      "text/plain": [
       "[1, 4, 9, 16, 25, 36, 49, 64]"
      ]
     },
     "execution_count": 17,
     "metadata": {},
     "output_type": "execute_result"
    }
   ],
   "source": [
    "## Lambda function with map\n",
    "numbers=[1,2,3,4,5,6,7,8]\n",
    "list(map(lambda x:x*x,numbers))"
   ]
  },
  {
   "cell_type": "code",
   "execution_count": 18,
   "id": "5b8d3041",
   "metadata": {},
   "outputs": [
    {
     "name": "stdout",
     "output_type": "stream",
     "text": [
      "[5, 7, 9]\n"
     ]
    }
   ],
   "source": [
    "### MAp multiple iterables\n",
    "\n",
    "numbers1=[1,2,3]\n",
    "numbers2=[4,5,6]\n",
    "\n",
    "added_numbers=list(map(lambda x,y:x+y,numbers1,numbers2))\n",
    "print(added_numbers)"
   ]
  },
  {
   "cell_type": "code",
   "execution_count": 19,
   "id": "05421936",
   "metadata": {},
   "outputs": [
    {
     "name": "stdout",
     "output_type": "stream",
     "text": [
      "[1, 2, 3, 4, 5]\n"
     ]
    }
   ],
   "source": [
    "## map() to convert a list of strings to integers\n",
    "# Use map to convert strings to integers\n",
    "str_numbers = ['1', '2', '3', '4', '5']\n",
    "int_numbers = list(map(int, str_numbers))\n",
    "\n",
    "print(int_numbers)  # Output: [1, 2, 3, 4, 5]\n"
   ]
  },
  {
   "cell_type": "code",
   "execution_count": 20,
   "id": "252778df",
   "metadata": {},
   "outputs": [
    {
     "name": "stdout",
     "output_type": "stream",
     "text": [
      "['APPLE', 'BANANA', 'CHERRY']\n"
     ]
    }
   ],
   "source": [
    "words=['apple','banana','cherry']\n",
    "upper_word=list(map(str.upper,words))\n",
    "print(upper_word)"
   ]
  },
  {
   "cell_type": "code",
   "execution_count": 21,
   "id": "7c4a97c0",
   "metadata": {},
   "outputs": [
    {
     "data": {
      "text/plain": [
       "['Krish', 'Jack']"
      ]
     },
     "execution_count": 21,
     "metadata": {},
     "output_type": "execute_result"
    }
   ],
   "source": [
    "def get_name(person):\n",
    "    return person['name']\n",
    "\n",
    "people=[\n",
    "    {'name':'Krish','age':32},\n",
    "    {'name':'Jack','age':33}\n",
    "]\n",
    "list(map(get_name,people))\n",
    "\n"
   ]
  },
  {
   "cell_type": "markdown",
   "id": "809d9c73",
   "metadata": {},
   "source": [
    "#### Conclusion\n",
    "The map() function is a powerful tool for applying transformations to iterable data structures. It can be used with regular functions, lambda functions, and even multiple iterables, providing a versatile approach to data processing in Python. By understanding and utilizing map(), you can write more efficient and readable code."
   ]
  },
  {
   "cell_type": "markdown",
   "id": "e27f4858",
   "metadata": {},
   "source": [
    "##### The filter() Function in Python\n",
    "The filter() function constructs an iterator from elements of an iterable for which a function returns true. It is used to filter out items from a list (or any other iterable) based on a condition."
   ]
  },
  {
   "cell_type": "code",
   "execution_count": 22,
   "id": "37f74d6b",
   "metadata": {},
   "outputs": [],
   "source": [
    "def even(num):\n",
    "    if num%2==0:\n",
    "        return True"
   ]
  },
  {
   "cell_type": "code",
   "execution_count": 23,
   "id": "196b8238",
   "metadata": {},
   "outputs": [
    {
     "data": {
      "text/plain": [
       "True"
      ]
     },
     "execution_count": 23,
     "metadata": {},
     "output_type": "execute_result"
    }
   ],
   "source": [
    "even(24)"
   ]
  },
  {
   "cell_type": "code",
   "execution_count": 24,
   "id": "1504cfc5",
   "metadata": {},
   "outputs": [
    {
     "data": {
      "text/plain": [
       "[2, 4, 6, 8, 10, 12]"
      ]
     },
     "execution_count": 24,
     "metadata": {},
     "output_type": "execute_result"
    }
   ],
   "source": [
    "lst=[1,2,3,4,5,6,7,8,9,10,11,12]\n",
    "\n",
    "list(filter(even,lst))\n"
   ]
  },
  {
   "cell_type": "code",
   "execution_count": 25,
   "id": "27c5235d",
   "metadata": {},
   "outputs": [
    {
     "name": "stdout",
     "output_type": "stream",
     "text": [
      "[6, 7, 8, 9]\n"
     ]
    }
   ],
   "source": [
    "## filter with a Lambda Function\n",
    "numbers=[1,2,3,4,5,6,7,8,9]\n",
    "greater_than_five=list(filter(lambda x:x>5,numbers))\n",
    "print(greater_than_five)"
   ]
  },
  {
   "cell_type": "code",
   "execution_count": 26,
   "id": "6eb1e6a3",
   "metadata": {},
   "outputs": [
    {
     "name": "stdout",
     "output_type": "stream",
     "text": [
      "[6, 8]\n"
     ]
    }
   ],
   "source": [
    "## Filter with a lambda function and multiple conditions\n",
    "numbers=[1,2,3,4,5,6,7,8,9]\n",
    "even_and_greater_than_five=list(filter(lambda x:x>5 and x%2==0,numbers))\n",
    "print(even_and_greater_than_five)"
   ]
  },
  {
   "cell_type": "code",
   "execution_count": 27,
   "id": "53d3c158",
   "metadata": {},
   "outputs": [
    {
     "data": {
      "text/plain": [
       "[{'name': 'Krish', 'age': 32}, {'name': 'Jack', 'age': 33}]"
      ]
     },
     "execution_count": 27,
     "metadata": {},
     "output_type": "execute_result"
    }
   ],
   "source": [
    "## Filter() to check if the age is greate than 25 in dictionaries\n",
    "people=[\n",
    "    {'name':'Krish','age':32},\n",
    "    {'name':'Jack','age':33},\n",
    "    {'name':'John','age':25}\n",
    "]\n",
    "\n",
    "def age_greater_than_25(person):\n",
    "    return person['age']>25\n",
    "\n",
    "list(filter(age_greater_than_25,people))"
   ]
  },
  {
   "cell_type": "markdown",
   "id": "c9c4d89b",
   "metadata": {},
   "source": [
    "##### Conclusion\n",
    "The filter() function is a powerful tool for creating iterators that filter items out of an iterable based on a function. It is commonly used for data cleaning, filtering objects, and removing unwanted elements from lists. By mastering filter(), you can write more concise and efficient code for processing and manipulating collections in Python."
   ]
  }
 ],
 "metadata": {
  "kernelspec": {
   "display_name": "venv",
   "language": "python",
   "name": "python3"
  },
  "language_info": {
   "codemirror_mode": {
    "name": "ipython",
    "version": 3
   },
   "file_extension": ".py",
   "mimetype": "text/x-python",
   "name": "python",
   "nbconvert_exporter": "python",
   "pygments_lexer": "ipython3",
   "version": "3.11.9"
  }
 },
 "nbformat": 4,
 "nbformat_minor": 5
}
