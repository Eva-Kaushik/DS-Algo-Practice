{
 "cells": [
  {
   "cell_type": "code",
   "execution_count": 1,
   "metadata": {},
   "outputs": [
    {
     "name": "stdout",
     "output_type": "stream",
     "text": [
      "<class 'list'>\n"
     ]
    }
   ],
   "source": [
    "# 1. List \n",
    "# List are ordered and mutable collection of data items. \n",
    "# It may contain items of different data types.\n",
    "\n",
    "lst = []\n",
    "print(type(lst)) #type of list"
   ]
  },
  {
   "cell_type": "code",
   "execution_count": 2,
   "metadata": {},
   "outputs": [
    {
     "name": "stdout",
     "output_type": "stream",
     "text": [
      "['Eva', 'Rohit', 'Jacob', 4, 8, 1]\n"
     ]
    }
   ],
   "source": [
    "names = [\"Eva\", \"Rohit\", \"Jacob\", 4, 8, 1]\n",
    "print(names)"
   ]
  },
  {
   "cell_type": "code",
   "execution_count": 3,
   "metadata": {},
   "outputs": [
    {
     "name": "stdout",
     "output_type": "stream",
     "text": [
      "[3.718, 'Eva', False, 5]\n"
     ]
    }
   ],
   "source": [
    "mixed_list = [3.718, \"Eva\", False, 5 ] #float,string,bool,integer \n",
    "print(mixed_list)"
   ]
  },
  {
   "cell_type": "code",
   "execution_count": 9,
   "metadata": {},
   "outputs": [
    {
     "name": "stdout",
     "output_type": "stream",
     "text": [
      "Apple\n",
      "Kiwi\n",
      "Banana\n",
      "['Apple', 'Kiwi', 'Dragon-Fruit', 'Cherry', 'Banana']\n",
      "['Apple', 'Kiwi', 'Dragon-Fruit', 'Cherry']\n"
     ]
    }
   ],
   "source": [
    "#Accessing the list elements \n",
    "#List_Indices= 0,1,2,3,4,5 (Here always remember that list index begins from 0)\n",
    "list = [\"Apple\",\"Kiwi\",\"Dragon-Fruit\",\"Cherry\",\"Banana\"]\n",
    "print(list[0])\n",
    "print(list[1])\n",
    "print(list[-1]) #We use -1 to access the last element in list\n",
    "print(list[0:]) #We use this to get entire list printed\n",
    "print(list[0:4]) #Defining a range to access specific elements "
   ]
  },
  {
   "cell_type": "code",
   "execution_count": 17,
   "metadata": {},
   "outputs": [
    {
     "name": "stdout",
     "output_type": "stream",
     "text": [
      "['Apple', 'watermelon', 'Dragon-Fruit', 'Cherry', 'Banana']\n"
     ]
    }
   ],
   "source": [
    "#Modifying the list elements \n",
    "list\n",
    "list[1]=\"watermelon\"\n",
    "print(list)"
   ]
  },
  {
   "cell_type": "code",
   "execution_count": 19,
   "metadata": {},
   "outputs": [
    {
     "name": "stdout",
     "output_type": "stream",
     "text": [
      "['Apple', 'w', 'a', 't', 'e', 'r', 'm', 'e', 'l', 'o', 'n']\n"
     ]
    }
   ],
   "source": [
    "list[1:] = \"watermelon\" #Here 1: means after the letter that's indexed at 1, we shall get watermelon\n",
    "print(list)"
   ]
  },
  {
   "cell_type": "code",
   "execution_count": 32,
   "metadata": {},
   "outputs": [],
   "source": [
    "list = [\"Apple\",\"Kiwi\",\"Dragon-Fruit\",\"Cherry\",\"Banana\"]"
   ]
  },
  {
   "cell_type": "code",
   "execution_count": 33,
   "metadata": {},
   "outputs": [
    {
     "name": "stdout",
     "output_type": "stream",
     "text": [
      "['Apple', 'Kiwi', 'Dragon-Fruit', 'Cherry', 'Banana', 'Vanilla']\n"
     ]
    }
   ],
   "source": [
    "list.append(\"Vanilla\")\n",
    "print(list)"
   ]
  },
  {
   "cell_type": "code",
   "execution_count": 35,
   "metadata": {},
   "outputs": [
    {
     "name": "stdout",
     "output_type": "stream",
     "text": [
      "['Apple', 'Kiwi', 'Choco', 'Dragon-Fruit', 'Cherry', 'Banana', 'Vanilla']\n"
     ]
    }
   ],
   "source": [
    "#If we would liek to add something at a particular index\n",
    "\n",
    "list.insert(2,\"Choco\")\n",
    "print(list)"
   ]
  },
  {
   "cell_type": "code",
   "execution_count": 36,
   "metadata": {},
   "outputs": [
    {
     "name": "stdout",
     "output_type": "stream",
     "text": [
      "['Apple', 'Kiwi', 'Choco', 'Dragon-Fruit', 'Cherry', 'Banana']\n"
     ]
    }
   ],
   "source": [
    "list.remove(\"Vanilla\") #remove means removing the first occurance of an item\n",
    "print(list)"
   ]
  },
  {
   "cell_type": "code",
   "execution_count": 37,
   "metadata": {},
   "outputs": [
    {
     "name": "stdout",
     "output_type": "stream",
     "text": [
      "Banana\n",
      "['Apple', 'Kiwi', 'Choco', 'Dragon-Fruit', 'Cherry']\n"
     ]
    }
   ],
   "source": [
    "#Remove and return the last element | For this we will use pop function\n",
    "popped_list = list.pop()\n",
    "print(popped_list)\n",
    "print(list)"
   ]
  },
  {
   "cell_type": "code",
   "execution_count": 40,
   "metadata": {},
   "outputs": [
    {
     "data": {
      "text/plain": [
       "4"
      ]
     },
     "execution_count": 40,
     "metadata": {},
     "output_type": "execute_result"
    }
   ],
   "source": [
    "##Retrieving the index of any fruit\n",
    "list.index(\"Cherry\")"
   ]
  },
  {
   "cell_type": "code",
   "execution_count": 43,
   "metadata": {},
   "outputs": [
    {
     "name": "stdout",
     "output_type": "stream",
     "text": [
      "3\n"
     ]
    }
   ],
   "source": [
    "list.insert(2,\"Kiwi\")\n",
    "print(list.count(\"Kiwi\"))"
   ]
  },
  {
   "cell_type": "code",
   "execution_count": 44,
   "metadata": {},
   "outputs": [
    {
     "data": {
      "text/plain": [
       "['Apple', 'Kiwi', 'Kiwi', 'Kiwi', 'Choco', 'Dragon-Fruit', 'Cherry']"
      ]
     },
     "execution_count": 44,
     "metadata": {},
     "output_type": "execute_result"
    }
   ],
   "source": [
    "list"
   ]
  },
  {
   "cell_type": "code",
   "execution_count": 51,
   "metadata": {},
   "outputs": [
    {
     "name": "stdout",
     "output_type": "stream",
     "text": [
      "['Apple', 'Cherry', 'Choco', 'Dragon-Fruit', 'Kiwi']\n"
     ]
    }
   ],
   "source": [
    "list.sort()\n",
    "print(list)\n",
    "list.remove(\"Kiwi\")"
   ]
  },
  {
   "cell_type": "code",
   "execution_count": 54,
   "metadata": {},
   "outputs": [
    {
     "data": {
      "text/plain": [
       "['Dragon-Fruit', 'Choco', 'Cherry', 'Apple']"
      ]
     },
     "execution_count": 54,
     "metadata": {},
     "output_type": "execute_result"
    }
   ],
   "source": [
    "#To reverse the list\n",
    "list.reverse()\n",
    "list"
   ]
  },
  {
   "cell_type": "code",
   "execution_count": 56,
   "metadata": {},
   "outputs": [
    {
     "name": "stdout",
     "output_type": "stream",
     "text": [
      "[]\n"
     ]
    }
   ],
   "source": [
    "list.clear() #This will clear all items in the list\n",
    "print(list)"
   ]
  },
  {
   "cell_type": "code",
   "execution_count": 57,
   "metadata": {},
   "outputs": [
    {
     "name": "stdout",
     "output_type": "stream",
     "text": [
      "[2, 3, 4]\n",
      "[3, 4, 5, 6, 7]\n",
      "[1, 2, 3, 4, 5]\n",
      "[1, 2, 3, 4, 5, 6, 7]\n",
      "[1, 3, 5, 7]\n",
      "[7, 6, 5, 4, 3, 2, 1]\n"
     ]
    }
   ],
   "source": [
    "#slicing list\n",
    "numbers = [1,2,3,4,5,6,7]\n",
    "print(numbers[1:4])\n",
    "print(numbers[2:])\n",
    "print(numbers[:5])\n",
    "print(numbers[::]) #It means printing all numbers \n",
    "print(numbers[::2])\n",
    "print(numbers[::-1])"
   ]
  },
  {
   "cell_type": "code",
   "execution_count": 59,
   "metadata": {},
   "outputs": [
    {
     "name": "stdout",
     "output_type": "stream",
     "text": [
      "1\n",
      "2\n",
      "3\n",
      "4\n",
      "5\n",
      "6\n",
      "7\n"
     ]
    }
   ],
   "source": [
    "#for loop\n",
    "for number in numbers:\n",
    "    print(number)"
   ]
  },
  {
   "cell_type": "code",
   "execution_count": 60,
   "metadata": {},
   "outputs": [
    {
     "name": "stdout",
     "output_type": "stream",
     "text": [
      "0 1\n",
      "1 2\n",
      "2 3\n",
      "3 4\n",
      "4 5\n",
      "5 6\n",
      "6 7\n"
     ]
    }
   ],
   "source": [
    "#If we want the index as well for the numbers we shall use enumerate function\n",
    "for index,number in enumerate(numbers):\n",
    "    print(index,number)"
   ]
  },
  {
   "cell_type": "code",
   "execution_count": 62,
   "metadata": {},
   "outputs": [
    {
     "name": "stdout",
     "output_type": "stream",
     "text": [
      "[0, 1, 4, 9, 16, 25, 36, 49, 64, 81]\n"
     ]
    }
   ],
   "source": [
    "## list comprehension \n",
    "lst = [] #Defining this list showcase the presence of 0,1,2,3,4,5...\n",
    "\n",
    "for x in range(10): #0-9\n",
    "    lst.append(x**2)\n",
    "\n",
    "print(lst)"
   ]
  },
  {
   "cell_type": "code",
   "execution_count": null,
   "metadata": {},
   "outputs": [
    {
     "data": {
      "text/plain": [
       "[0, 1, 4, 9, 16, 25, 36, 49, 64, 81]"
      ]
     },
     "execution_count": 63,
     "metadata": {},
     "output_type": "execute_result"
    }
   ],
   "source": [
    "## List comprehension has two things that's what we want as an output and what's the operation we are trying to perform.\n",
    "\n",
    "[x**2 for x in range(10)] #expression for item in iterable"
   ]
  },
  {
   "cell_type": "code",
   "execution_count": 2,
   "metadata": {},
   "outputs": [
    {
     "name": "stdout",
     "output_type": "stream",
     "text": [
      "[0, 1, 4, 9, 16, 25, 36, 49, 64, 81]\n"
     ]
    }
   ],
   "source": [
    "#Basic list comprehension \n",
    "\n",
    "square = [x**2 for x in range(10)]\n",
    "print(square)"
   ]
  },
  {
   "cell_type": "code",
   "execution_count": 3,
   "metadata": {},
   "outputs": [
    {
     "name": "stdout",
     "output_type": "stream",
     "text": [
      "[0, 2, 4, 6, 8]\n"
     ]
    }
   ],
   "source": [
    "##List comprehension with condition\n",
    "\n",
    "lst = []\n",
    "for i in range(10):\n",
    "    if i%2==0:\n",
    "        lst.append(i)\n",
    "\n",
    "print(lst)"
   ]
  },
  {
   "cell_type": "code",
   "execution_count": 5,
   "metadata": {},
   "outputs": [
    {
     "name": "stdout",
     "output_type": "stream",
     "text": [
      "[0, 2, 4, 6, 8]\n"
     ]
    }
   ],
   "source": [
    "even_numbers=[num for num in range(10) if num%2==0]\n",
    "print(even_numbers)"
   ]
  },
  {
   "cell_type": "code",
   "execution_count": 6,
   "metadata": {},
   "outputs": [
    {
     "name": "stdout",
     "output_type": "stream",
     "text": [
      "[[1, 'a'], [1, 'b'], [1, 'c'], [1, 'd'], [2, 'a'], [2, 'b'], [2, 'c'], [2, 'd'], [3, 'a'], [3, 'b'], [3, 'c'], [3, 'd'], [4, 'a'], [4, 'b'], [4, 'c'], [4, 'd']]\n"
     ]
    }
   ],
   "source": [
    "lst1 = [1,2,3,4]\n",
    "lst2 = ['a','b','c','d']\n",
    "\n",
    "pairs = [[i,j] for i in lst1 for j in lst2]\n",
    "\n",
    "print(pairs)"
   ]
  },
  {
   "cell_type": "code",
   "execution_count": 7,
   "metadata": {},
   "outputs": [
    {
     "name": "stdout",
     "output_type": "stream",
     "text": [
      "[3, 3, 7, 11]\n"
     ]
    }
   ],
   "source": [
    "words = [\"Eva\", \"Dia\", \"Colgate\", \"Draculajojo\"]\n",
    "lengths = [len(word) for word in words]\n",
    "print(lengths)"
   ]
  },
  {
   "cell_type": "markdown",
   "metadata": {},
   "source": [
    "##### Sets: Sets are built-in data type in Python used to store collections of unique items. They are unordered, meaning that the elements do not follow specific order, and do not allow duplicate elements. They are commonly used in eliminating duplicate entries (performing mathematical set operations-union,intersection, difference and symmetric difference)"
   ]
  },
  {
   "cell_type": "code",
   "execution_count": null,
   "metadata": {},
   "outputs": [
    {
     "name": "stdout",
     "output_type": "stream",
     "text": [
      "<class 'set'>\n",
      "{1, 2, 3, 4, 5}\n"
     ]
    }
   ],
   "source": [
    "# Creating a set\n",
    "my_set = {1,2,3,4,5} #my_set = set([1,2,3,4,5])\n",
    "print(type(my_set))\n",
    "print(my_set)"
   ]
  },
  {
   "cell_type": "code",
   "execution_count": null,
   "metadata": {},
   "outputs": [
    {
     "name": "stdout",
     "output_type": "stream",
     "text": [
      "<class 'dict'>\n"
     ]
    }
   ],
   "source": [
    "# Creating an empty-set\n",
    "my_emptyset = {}\n",
    "print(type(my_emptyset))"
   ]
  },
  {
   "cell_type": "code",
   "execution_count": 11,
   "metadata": {},
   "outputs": [
    {
     "name": "stdout",
     "output_type": "stream",
     "text": [
      "{1, 2, 3, 4, 5, 7}\n"
     ]
    }
   ],
   "source": [
    "#Basic Set Operation\n",
    "# Adding and removing the elements \n",
    "\n",
    "my_set.add(5)\n",
    "print(my_set)"
   ]
  },
  {
   "cell_type": "code",
   "execution_count": 8,
   "metadata": {},
   "outputs": [
    {
     "name": "stdout",
     "output_type": "stream",
     "text": [
      "{1, 2, 3, 4, 7}\n"
     ]
    }
   ],
   "source": [
    "#Unlike remove we do have discard() as well, which won't really raise any exception even if the element is absent.\n",
    "my_set.discard(10)\n",
    "print(my_set)"
   ]
  },
  {
   "cell_type": "code",
   "execution_count": 12,
   "metadata": {},
   "outputs": [
    {
     "name": "stdout",
     "output_type": "stream",
     "text": [
      "{1, 2, 3, 5, 7}\n"
     ]
    }
   ],
   "source": [
    "#Unlike remove we do have discard() as well, which won't really raise any exception even if the element is absent.\n",
    "my_set.remove(4)\n",
    "print(my_set)"
   ]
  },
  {
   "cell_type": "code",
   "execution_count": 13,
   "metadata": {},
   "outputs": [
    {
     "name": "stdout",
     "output_type": "stream",
     "text": [
      "1\n",
      "{2, 3, 5, 7}\n"
     ]
    }
   ],
   "source": [
    "#pop method #If we would like to remove the first element of set \n",
    "\n",
    "removed_set = my_set.pop()\n",
    "print(removed_set)\n",
    "print(my_set)"
   ]
  },
  {
   "cell_type": "code",
   "execution_count": null,
   "metadata": {},
   "outputs": [
    {
     "name": "stdout",
     "output_type": "stream",
     "text": [
      "set()\n"
     ]
    }
   ],
   "source": [
    "#If we would like to clear all the elements \n",
    "\n",
    "my_set.clear()\n",
    "print(my_set)"
   ]
  },
  {
   "cell_type": "code",
   "execution_count": 15,
   "metadata": {},
   "outputs": [
    {
     "name": "stdout",
     "output_type": "stream",
     "text": [
      "True\n",
      "False\n"
     ]
    }
   ],
   "source": [
    "#Set Membership Test #Boolean Test about the existence of element \n",
    "my_set = {1,2,3,4,5}\n",
    "print(3 in my_set)\n",
    "print(10 in my_set)"
   ]
  },
  {
   "cell_type": "code",
   "execution_count": null,
   "metadata": {},
   "outputs": [
    {
     "name": "stdout",
     "output_type": "stream",
     "text": [
      "{1, 2, 3, 4, 5, 6, 7, 8, 9, 10}\n",
      "{1, 5}\n",
      "{1, 5}\n"
     ]
    }
   ],
   "source": [
    "#Mathematical Operations\n",
    "set1 = {1,2,3,4,5}\n",
    "set2 = {5,6,7,1,8,9,10}\n",
    "\n",
    "#Union \n",
    "union_set = set1.union(set2)\n",
    "print(union_set)\n",
    "\n",
    "#Intersection \n",
    "intersection_set = set1.intersection(set2)\n",
    "print(intersection_set)\n",
    "\n",
    "set1.intersection_update(set2) #Intersection update means it will get stored in set1\n",
    "print(set1)"
   ]
  },
  {
   "cell_type": "code",
   "execution_count": 6,
   "metadata": {},
   "outputs": [
    {
     "name": "stdout",
     "output_type": "stream",
     "text": [
      "{1, 2, 3}\n",
      "{1, 2, 3}\n",
      "{1, 2, 3, 6, 7, 8}\n"
     ]
    }
   ],
   "source": [
    "set1 = {1,2,3,4,5}\n",
    "set2 = {4,5,6,7,8}\n",
    "\n",
    "#Difference operation: It showcases the outlying elements in a certain set leaving apart the common elements.\n",
    "\n",
    "Difference_set = set1.difference(set2)\n",
    "print(Difference_set)\n",
    "\n",
    "Difference_set2 = set2.difference(set1)\n",
    "print(Difference_set)\n",
    "\n",
    "#Symmetric Difference #In this we only get the unique elements out of both sets and common elements are not considered. \n",
    "\n",
    "print(set1.symmetric_difference(set2))"
   ]
  },
  {
   "cell_type": "code",
   "execution_count": 10,
   "metadata": {},
   "outputs": [
    {
     "name": "stdout",
     "output_type": "stream",
     "text": [
      "True\n",
      "False\n"
     ]
    }
   ],
   "source": [
    "#Set Methods \n",
    "set1 = {1,2,3}\n",
    "set2 = {1,2,3,5,6,7,8,9}\n",
    "\n",
    "#issubset #boolean\n",
    "print(set1.issubset(set2))\n",
    "\n",
    "#issuperset #boolean \n",
    "print(set1.issuperset(set2))"
   ]
  },
  {
   "cell_type": "code",
   "execution_count": 11,
   "metadata": {},
   "outputs": [
    {
     "data": {
      "text/plain": [
       "{1, 2, 3, 4, 5, 6, 7, 8}"
      ]
     },
     "execution_count": 11,
     "metadata": {},
     "output_type": "execute_result"
    }
   ],
   "source": [
    "#If we have a list and we would like to remove the duplicates from the list hence in that case we will convert it into set\n",
    "\n",
    "lst = [1,2,3,4,4,5,6,6,7,8]\n",
    "\n",
    "set(lst)"
   ]
  },
  {
   "cell_type": "code",
   "execution_count": 12,
   "metadata": {},
   "outputs": [
    {
     "name": "stdout",
     "output_type": "stream",
     "text": [
      "{'possible', 'tutorial', 'to', 'of', 'we', 'unique', 'outcome', 'In', 'the', 'best', 'words', 'this', 'try', 'get', 'will'}\n",
      "15\n"
     ]
    }
   ],
   "source": [
    "#Counting unique words in a text \n",
    "\n",
    "text = \"In this tutorial we will try to get the best possible outcome of unique words\"\n",
    "words = text.split()\n",
    "\n",
    "#convert list of words to set to attain the unique words\n",
    "unique_words = set(words)\n",
    "print(unique_words)\n",
    "print(len(unique_words))"
   ]
  },
  {
   "cell_type": "code",
   "execution_count": 1,
   "metadata": {},
   "outputs": [
    {
     "name": "stdout",
     "output_type": "stream",
     "text": [
      "<class 'dict'>\n"
     ]
    }
   ],
   "source": [
    "## Dictionaries \n",
    "# Dictionary: It's unordered collection of items, they store data in key-value pairs. Here keys shall be unique and immutable (eg. strings, tuples, etc...) and values can be of any type. \n",
    "\n",
    "empty_dict = {}\n",
    "print(type(empty_dict))"
   ]
  },
  {
   "cell_type": "code",
   "execution_count": 2,
   "metadata": {},
   "outputs": [
    {
     "data": {
      "text/plain": [
       "{}"
      ]
     },
     "execution_count": 2,
     "metadata": {},
     "output_type": "execute_result"
    }
   ],
   "source": [
    "empty_dict = dict()\n",
    "empty_dict"
   ]
  },
  {
   "cell_type": "code",
   "execution_count": 2,
   "metadata": {},
   "outputs": [
    {
     "name": "stdout",
     "output_type": "stream",
     "text": [
      "{'name': 'Eva', 'age': 24, 'Height': 5.7}\n",
      "<class 'dict'>\n"
     ]
    }
   ],
   "source": [
    "#Defining and printing the dictionary \n",
    "#Key:value pairs \n",
    "Dict_student = {\"name\": \"Eva\", \"age\": 24, \"Height\": 5.7}\n",
    "print(Dict_student)\n",
    "print(type(Dict_student))"
   ]
  },
  {
   "cell_type": "code",
   "execution_count": 3,
   "metadata": {},
   "outputs": [
    {
     "name": "stdout",
     "output_type": "stream",
     "text": [
      "{'Name': 5.68, 'age': 24}\n"
     ]
    }
   ],
   "source": [
    "#Here as we noticed each unique key could onky have one value, if we are \n",
    "Dict_Error_student = { \"Name\":\"Eva\", \"age\": 24, \"Name\":5.68}\n",
    "print(Dict_Error_student)"
   ]
  },
  {
   "cell_type": "code",
   "execution_count": 4,
   "metadata": {},
   "outputs": [
    {
     "name": "stdout",
     "output_type": "stream",
     "text": [
      "{'Name': 'Eva', 'age': 24, 'grade': 'A++'}\n"
     ]
    }
   ],
   "source": [
    "#Accessing the dictionary elements \n",
    "student = {\"Name\": \"Eva\", \"age\": 24, \"grade\": 'A++'}\n",
    "print(student)"
   ]
  },
  {
   "cell_type": "code",
   "execution_count": 5,
   "metadata": {},
   "outputs": [
    {
     "name": "stdout",
     "output_type": "stream",
     "text": [
      "A++\n",
      "24\n",
      "A++\n",
      "None\n",
      "Not Available\n"
     ]
    }
   ],
   "source": [
    "print(student['grade'])\n",
    "print(student['age'])\n",
    "\n",
    "#Accessing using the .get() method \n",
    "print(student.get('grade'))\n",
    "print(student.get('last_name'))\n",
    "#Assigning a default value \n",
    "print(student.get('last_name',\"Not Available\"))"
   ]
  },
  {
   "cell_type": "code",
   "execution_count": 6,
   "metadata": {},
   "outputs": [
    {
     "name": "stdout",
     "output_type": "stream",
     "text": [
      "{'Name': 'Eva', 'age': 24, 'grade': 'A++'}\n",
      "{'Name': 'Eva', 'age': 28, 'grade': 'A++'}\n",
      "{'Name': 'Eva', 'age': 28, 'grade': 'A++', 'address': 'India'}\n"
     ]
    }
   ],
   "source": [
    "#Modifying the dictionary elements \n",
    "#Dictionary elements are mutable, can be (edited,updated & deleted)\n",
    "\n",
    "print(student)\n",
    "\n",
    "#Updating and adding new keys\n",
    "student[\"age\"] = 28 #updating the key and value \n",
    "print(student)\n",
    "student[\"address\"] = \"India\" #adding new key and value \n",
    "print(student)\n"
   ]
  },
  {
   "cell_type": "code",
   "execution_count": 7,
   "metadata": {},
   "outputs": [
    {
     "name": "stdout",
     "output_type": "stream",
     "text": [
      "{'Name': 'Eva', 'age': 28, 'address': 'India'}\n"
     ]
    }
   ],
   "source": [
    "del student['grade']\n",
    "print(student)"
   ]
  },
  {
   "cell_type": "code",
   "execution_count": 8,
   "metadata": {},
   "outputs": [
    {
     "name": "stdout",
     "output_type": "stream",
     "text": [
      "dict_keys(['Name', 'age', 'address'])\n",
      "dict_values(['Eva', 28, 'India'])\n",
      "dict_items([('Name', 'Eva'), ('age', 28), ('address', 'India')])\n"
     ]
    }
   ],
   "source": [
    "##Dictionary methods #key-value pairs \n",
    "keys = student.keys() #keys\n",
    "print(keys)\n",
    "values = student.values() #values \n",
    "print(values)\n",
    "\n",
    "items = student.items() #items: all key-value pairs\n",
    "print(items)"
   ]
  },
  {
   "cell_type": "code",
   "execution_count": 9,
   "metadata": {},
   "outputs": [
    {
     "name": "stdout",
     "output_type": "stream",
     "text": [
      "{'Name': 'Eva', 'age': 28, 'address': 'India'}\n",
      "{'Name': 'Eva', 'age': 28, 'address': 'India'}\n"
     ]
    }
   ],
   "source": [
    "#shallow-copy \n",
    "student_copy = student \n",
    "print(student_copy)\n",
    "print(student)"
   ]
  },
  {
   "cell_type": "code",
   "execution_count": 10,
   "metadata": {},
   "outputs": [
    {
     "name": "stdout",
     "output_type": "stream",
     "text": [
      "{'Name': 'Evan', 'age': 28, 'address': 'India'}\n",
      "{'Name': 'Evan', 'age': 28, 'address': 'India'}\n"
     ]
    }
   ],
   "source": [
    "student['Name'] = \"Evan\"\n",
    "print(student_copy)\n",
    "print(student)"
   ]
  },
  {
   "cell_type": "code",
   "execution_count": 11,
   "metadata": {},
   "outputs": [
    {
     "name": "stdout",
     "output_type": "stream",
     "text": [
      "{'Name': 'Evan', 'age': 28, 'address': 'India'}\n",
      "{'Name': 'Evan', 'age': 28, 'address': 'India'}\n"
     ]
    }
   ],
   "source": [
    "#To avoid the issue we utilise .copy()\n",
    "student_copy1 = student.copy()\n",
    "print(student_copy1)\n",
    "print(student)"
   ]
  },
  {
   "cell_type": "code",
   "execution_count": 12,
   "metadata": {},
   "outputs": [
    {
     "name": "stdout",
     "output_type": "stream",
     "text": [
      "{'Name': 'Evan', 'age': 28, 'address': 'India'}\n",
      "{'Name': 'Evuu', 'age': 28, 'address': 'India'}\n"
     ]
    }
   ],
   "source": [
    "student['Name'] = \"Evuu\"\n",
    "print(student_copy1)\n",
    "print(student)"
   ]
  },
  {
   "cell_type": "code",
   "execution_count": 17,
   "metadata": {},
   "outputs": [
    {
     "name": "stdout",
     "output_type": "stream",
     "text": [
      "Name\n",
      "age\n",
      "address\n",
      "Evuu\n",
      "28\n",
      "India\n",
      "('Name', 'Evuu')\n",
      "('age', 28)\n",
      "('address', 'India')\n",
      "Name:Evuu\n",
      "age:28\n",
      "address:India\n"
     ]
    }
   ],
   "source": [
    "#Iterating over dictionaries\n",
    "#We may use loops to iterate over key,value, dictionary and items\n",
    "\n",
    "for keys in student.keys():\n",
    "    print(keys)\n",
    "\n",
    "for values in student.values():\n",
    "    print(values)\n",
    "\n",
    "for items in student.items():\n",
    "    print(items)\n",
    "\n",
    "for key,values in student.items():\n",
    "    print(f\"{key}:{values}\")\n"
   ]
  },
  {
   "cell_type": "code",
   "execution_count": 21,
   "metadata": {},
   "outputs": [
    {
     "name": "stdout",
     "output_type": "stream",
     "text": [
      "{'student1': {'Name': 'Eva', 'Age': 24}, 'student2': {'Name': 'Jacob', 'Age': 35}}\n"
     ]
    }
   ],
   "source": [
    "#Nested Dictionaries \n",
    "students={\n",
    "    \"student1\":{\"Name\":\"Eva\", \"Age\": 24},\n",
    "    \"student2\":{\"Name\":\"Jacob\", \"Age\": 35}\n",
    "}\n",
    "print(students)"
   ]
  },
  {
   "cell_type": "code",
   "execution_count": 22,
   "metadata": {},
   "outputs": [
    {
     "name": "stdout",
     "output_type": "stream",
     "text": [
      "Jacob\n",
      "35\n"
     ]
    }
   ],
   "source": [
    "#Access Nested Dictionaries Items\n",
    "\n",
    "print(students[\"student2\"][\"Name\"])\n",
    "print(students[\"student2\"][\"Age\"])"
   ]
  },
  {
   "cell_type": "code",
   "execution_count": 23,
   "metadata": {},
   "outputs": [
    {
     "data": {
      "text/plain": [
       "dict_items([('student1', {'Name': 'Eva', 'Age': 24}), ('student2', {'Name': 'Jacob', 'Age': 35})])"
      ]
     },
     "execution_count": 23,
     "metadata": {},
     "output_type": "execute_result"
    }
   ],
   "source": [
    "students.items()"
   ]
  },
  {
   "cell_type": "code",
   "execution_count": 25,
   "metadata": {},
   "outputs": [
    {
     "name": "stdout",
     "output_type": "stream",
     "text": [
      "student1:{'Name': 'Eva', 'Age': 24}\n",
      "Name:Eva\n",
      "Age:24\n",
      "student2:{'Name': 'Jacob', 'Age': 35}\n",
      "Name:Jacob\n",
      "Age:35\n"
     ]
    }
   ],
   "source": [
    "# Iterating over nested dictionaries \n",
    "for student_id,student_info in students.items():\n",
    "    print(f\"{student_id}:{student_info}\")\n",
    "    for key,value in student_info.items(): \n",
    "        print(f\"{key}:{value}\")"
   ]
  },
  {
   "cell_type": "code",
   "execution_count": 27,
   "metadata": {},
   "outputs": [
    {
     "name": "stdout",
     "output_type": "stream",
     "text": [
      "{0: 0, 1: 1, 2: 4, 3: 9, 4: 16}\n"
     ]
    }
   ],
   "source": [
    "#Dictionary Comprehension \n",
    "squares={x:x**2 for x in range (5)}\n",
    "print(squares)"
   ]
  },
  {
   "cell_type": "code",
   "execution_count": 28,
   "metadata": {},
   "outputs": [
    {
     "name": "stdout",
     "output_type": "stream",
     "text": [
      "{0: 0, 2: 4, 4: 16}\n"
     ]
    }
   ],
   "source": [
    "#Condition Dictionary Comprehension \n",
    "evens={x:x**2 for x in range (5) if x%2==0}\n",
    "print(evens)"
   ]
  },
  {
   "cell_type": "code",
   "execution_count": 29,
   "metadata": {},
   "outputs": [
    {
     "name": "stdout",
     "output_type": "stream",
     "text": [
      "{2: 1, 5: 1, 6: 1, 7: 1, 8: 1, 9: 1, 0: 1}\n"
     ]
    }
   ],
   "source": [
    "#Question 1: Use a dictionary to count the frequency of elements in a list \n",
    "\n",
    "numbers=[2,5,6,7,8,8,9,0]\n",
    "frequency={}\n",
    "\n",
    "for number in numbers:\n",
    "    if number in frequency:\n",
    "        frequency[number]=+1\n",
    "    else:\n",
    "        frequency[number]=1\n",
    "print(frequency)"
   ]
  },
  {
   "cell_type": "code",
   "execution_count": 30,
   "metadata": {},
   "outputs": [
    {
     "name": "stdout",
     "output_type": "stream",
     "text": [
      "{'a': 2, 'b': 8, 'd': 9}\n"
     ]
    }
   ],
   "source": [
    "#Question 2: Merge two dictionaries into one \n",
    "dict1={\"a\":2,\"b\":5}\n",
    "dict2={\"b\":8,\"d\":9}\n",
    "\n",
    "merged_dict = {**dict1,**dict2}\n",
    "print(merged_dict)"
   ]
  },
  {
   "cell_type": "code",
   "execution_count": 32,
   "metadata": {},
   "outputs": [
    {
     "name": "stdout",
     "output_type": "stream",
     "text": [
      "()\n",
      "<class 'tuple'>\n"
     ]
    }
   ],
   "source": [
    "#Tuples\n",
    "#Tuples are the ordered collection of items but immutable, they are similar to list but their factor of being immutable makes them different. \n",
    "\n",
    "empty_tuple=()\n",
    "print(empty_tuple)\n",
    "print(type(empty_tuple))"
   ]
  },
  {
   "cell_type": "code",
   "execution_count": null,
   "metadata": {},
   "outputs": [
    {
     "name": "stdout",
     "output_type": "stream",
     "text": [
      "<class 'list'>\n",
      "<class 'tuple'>\n"
     ]
    }
   ],
   "source": [
    "lst = list()\n",
    "print(type(lst))\n",
    "\n",
    "tpl = tuple()\n",
    "print(type(tpl))"
   ]
  },
  {
   "cell_type": "code",
   "execution_count": 34,
   "metadata": {},
   "outputs": [
    {
     "data": {
      "text/plain": [
       "(1, 2, 3, 4, 5, 6)"
      ]
     },
     "execution_count": 34,
     "metadata": {},
     "output_type": "execute_result"
    }
   ],
   "source": [
    "numbers = tuple([1,2,3,4,5,6])\n",
    "numbers"
   ]
  },
  {
   "cell_type": "code",
   "execution_count": 35,
   "metadata": {},
   "outputs": [
    {
     "name": "stdout",
     "output_type": "stream",
     "text": [
      "('Eva Kaushik', 1, 5.68, 'a')\n"
     ]
    }
   ],
   "source": [
    "mixed_tuple = (\"Eva Kaushik\", 1, 5.68, 'a')\n",
    "print(mixed_tuple)"
   ]
  },
  {
   "cell_type": "code",
   "execution_count": 36,
   "metadata": {},
   "outputs": [
    {
     "data": {
      "text/plain": [
       "(1, 2, 3, 4, 5, 6)"
      ]
     },
     "execution_count": 36,
     "metadata": {},
     "output_type": "execute_result"
    }
   ],
   "source": [
    "#Accessing Tuple Elements \n",
    "numbers"
   ]
  },
  {
   "cell_type": "code",
   "execution_count": 37,
   "metadata": {},
   "outputs": [
    {
     "name": "stdout",
     "output_type": "stream",
     "text": [
      "3\n",
      "6\n"
     ]
    }
   ],
   "source": [
    "print(numbers[2])\n",
    "print(numbers[-1])"
   ]
  },
  {
   "cell_type": "code",
   "execution_count": 38,
   "metadata": {},
   "outputs": [
    {
     "data": {
      "text/plain": [
       "(1, 2, 3, 4)"
      ]
     },
     "execution_count": 38,
     "metadata": {},
     "output_type": "execute_result"
    }
   ],
   "source": [
    "numbers[0:4]"
   ]
  },
  {
   "cell_type": "code",
   "execution_count": 41,
   "metadata": {},
   "outputs": [
    {
     "name": "stdout",
     "output_type": "stream",
     "text": [
      "(1, 2, 3, 4, 5, 6)\n",
      "(6, 5, 4, 3, 2, 1)\n"
     ]
    }
   ],
   "source": [
    "print(numbers[::])\n",
    "print(numbers[::-1])"
   ]
  },
  {
   "cell_type": "code",
   "execution_count": 43,
   "metadata": {},
   "outputs": [
    {
     "name": "stdout",
     "output_type": "stream",
     "text": [
      "(1, 2, 3, 4, 5, 6, 'Eva Kaushik', 1, 5.68, 'a')\n"
     ]
    }
   ],
   "source": [
    "#Tuple Operations \n",
    "\n",
    "concat_tuples = numbers + mixed_tuple\n",
    "print(concat_tuples)"
   ]
  },
  {
   "cell_type": "code",
   "execution_count": 44,
   "metadata": {},
   "outputs": [
    {
     "data": {
      "text/plain": [
       "('Eva Kaushik',\n",
       " 1,\n",
       " 5.68,\n",
       " 'a',\n",
       " 'Eva Kaushik',\n",
       " 1,\n",
       " 5.68,\n",
       " 'a',\n",
       " 'Eva Kaushik',\n",
       " 1,\n",
       " 5.68,\n",
       " 'a')"
      ]
     },
     "execution_count": 44,
     "metadata": {},
     "output_type": "execute_result"
    }
   ],
   "source": [
    "mixed_tuple*3"
   ]
  },
  {
   "cell_type": "code",
   "execution_count": 45,
   "metadata": {},
   "outputs": [
    {
     "data": {
      "text/plain": [
       "(1, 2, 3, 4, 5, 6, 1, 2, 3, 4, 5, 6, 1, 2, 3, 4, 5, 6)"
      ]
     },
     "execution_count": 45,
     "metadata": {},
     "output_type": "execute_result"
    }
   ],
   "source": [
    "numbers*3"
   ]
  },
  {
   "cell_type": "code",
   "execution_count": 47,
   "metadata": {},
   "outputs": [
    {
     "name": "stdout",
     "output_type": "stream",
     "text": [
      "[9, 8, 2, 4, 5]\n",
      "[9, 'Krish', 2, 4, 5]\n"
     ]
    }
   ],
   "source": [
    "#Immutable nature of tuples \n",
    "#Once a value has been assigned then we can't change it.\n",
    "\n",
    "lst = [9,8,2,4,5]\n",
    "print(lst)\n",
    "\n",
    "lst[1] = \"Krish\"\n",
    "print(lst)"
   ]
  },
  {
   "cell_type": "code",
   "execution_count": 48,
   "metadata": {},
   "outputs": [
    {
     "ename": "TypeError",
     "evalue": "'tuple' object does not support item assignment",
     "output_type": "error",
     "traceback": [
      "\u001b[31m---------------------------------------------------------------------------\u001b[39m",
      "\u001b[31mTypeError\u001b[39m                                 Traceback (most recent call last)",
      "\u001b[36mCell\u001b[39m\u001b[36m \u001b[39m\u001b[32mIn[48]\u001b[39m\u001b[32m, line 1\u001b[39m\n\u001b[32m----> \u001b[39m\u001b[32m1\u001b[39m \u001b[43mnumbers\u001b[49m\u001b[43m[\u001b[49m\u001b[32;43m1\u001b[39;49m\u001b[43m]\u001b[49m = \u001b[33m\"\u001b[39m\u001b[33mKrish\u001b[39m\u001b[33m\"\u001b[39m\n",
      "\u001b[31mTypeError\u001b[39m: 'tuple' object does not support item assignment"
     ]
    }
   ],
   "source": [
    "numbers[1] = \"Krish\""
   ]
  },
  {
   "cell_type": "code",
   "execution_count": 52,
   "metadata": {},
   "outputs": [
    {
     "name": "stdout",
     "output_type": "stream",
     "text": [
      "(1, 2, 3, 4, 5, 6)\n",
      "1\n",
      "2\n"
     ]
    }
   ],
   "source": [
    "#Tuple Methods \n",
    "print(numbers)\n",
    "\n",
    "print(numbers.count(1))\n",
    "print(numbers.index(3))"
   ]
  },
  {
   "cell_type": "code",
   "execution_count": null,
   "metadata": {},
   "outputs": [
    {
     "name": "stdout",
     "output_type": "stream",
     "text": [
      "('Eva Kaushik', 1, 3.14)\n"
     ]
    }
   ],
   "source": [
    "#packed and unpacked tuple\n",
    "packed_tuple = \"Eva Kaushik\",1,3.14\n",
    "print(packed_tuple)"
   ]
  },
  {
   "cell_type": "code",
   "execution_count": 54,
   "metadata": {},
   "outputs": [
    {
     "name": "stdout",
     "output_type": "stream",
     "text": [
      "Eva Kaushik\n",
      "1\n",
      "3.14\n"
     ]
    }
   ],
   "source": [
    "#unpacking a tuple \n",
    "a,b,c = packed_tuple\n",
    "print(a)\n",
    "print(b)\n",
    "print(c)"
   ]
  },
  {
   "cell_type": "code",
   "execution_count": 55,
   "metadata": {},
   "outputs": [
    {
     "name": "stdout",
     "output_type": "stream",
     "text": [
      "2\n",
      "[4, 6, 7, 8]\n",
      "9\n"
     ]
    }
   ],
   "source": [
    "#unpackign with *\n",
    "numbers = (2,4,6,7,8,9)\n",
    "first,*middle,last = numbers\n",
    "print(first)\n",
    "print(middle)\n",
    "print(last)"
   ]
  },
  {
   "cell_type": "code",
   "execution_count": 56,
   "metadata": {},
   "outputs": [
    {
     "data": {
      "text/plain": [
       "[1, 2]"
      ]
     },
     "execution_count": 56,
     "metadata": {},
     "output_type": "execute_result"
    }
   ],
   "source": [
    "#Nested list \n",
    "#Nrested tuple \n",
    "\n",
    "lst = [[1,2,3,4],[6,7,8,9],[\"Eva Kaushik\",3.87,'a']]\n",
    "lst[0][0:2]"
   ]
  },
  {
   "cell_type": "code",
   "execution_count": 57,
   "metadata": {},
   "outputs": [
    {
     "data": {
      "text/plain": [
       "('Eva Kaushik', 3.87, 'a')"
      ]
     },
     "execution_count": 57,
     "metadata": {},
     "output_type": "execute_result"
    }
   ],
   "source": [
    "lst = [[1,2,3,4],[6,7,8,9],(\"Eva Kaushik\",3.87,'a')]\n",
    "lst[2][0:3]"
   ]
  },
  {
   "cell_type": "code",
   "execution_count": 59,
   "metadata": {},
   "outputs": [
    {
     "name": "stdout",
     "output_type": "stream",
     "text": [
      "(1, 2, 3)\n",
      "c\n"
     ]
    }
   ],
   "source": [
    "nested_tuple = ((1,2,3),(\"a\",\"b\",\"c\"),(True,False))\n",
    "print(nested_tuple[0])\n",
    "print(nested_tuple[1][2])"
   ]
  },
  {
   "cell_type": "code",
   "execution_count": 61,
   "metadata": {},
   "outputs": [
    {
     "name": "stdout",
     "output_type": "stream",
     "text": [
      "1 2 3 \n",
      "a b c \n",
      "True False \n"
     ]
    }
   ],
   "source": [
    "#Iterating over nested tuples\n",
    "for sub_tuple in nested_tuple:\n",
    "    for items in sub_tuple:\n",
    "        print(items,end=\" \")\n",
    "    print()"
   ]
  },
  {
   "cell_type": "code",
   "execution_count": null,
   "metadata": {},
   "outputs": [
    {
     "name": "stdout",
     "output_type": "stream",
     "text": [
      "Do not forget to clean, it's pending task\n",
      "To Do list remaining\n",
      "-Wake-up early morning\n",
      "-Clean the house\n",
      "-Get soy-chunks for dinner preparation\n",
      "-Go for a Run\n"
     ]
    }
   ],
   "source": [
    "#Real-World use-cases of list \n",
    "#Manage a TO-DO list to keep track of the tasks.\n",
    "\n",
    "to_do_list = [\"Wake-up early morning\",\"Prepare breakfast\",\"Clean the house\"]\n",
    "\n",
    "#Appending new tasks as they arrive \n",
    "\n",
    "to_do_list.append(\"Get soy-chunks for dinner preparation\")\n",
    "to_do_list.append(\"Go for a Run\")\n",
    "\n",
    "#Removing a completed task \n",
    "to_do_list.remove(\"Prepare breakfast\")\n",
    "\n",
    "#Checking if a task is in the list\n",
    "if \"Clean the house\" in to_do_list:\n",
    "    print(\"Do not forget to clean, it's pending task\")\n",
    "\n",
    "print(\"To Do list remaining\")\n",
    "for task in to_do_list:\n",
    "    print(f\"-{task}\") #Here we are using f-string that's the formatting string"
   ]
  },
  {
   "cell_type": "code",
   "execution_count": null,
   "metadata": {},
   "outputs": [
    {
     "name": "stdout",
     "output_type": "stream",
     "text": [
      "[96, 71, 88, 90, 93, 56]\n",
      "Average Grades:82.33\n",
      "96\n",
      "56\n"
     ]
    }
   ],
   "source": [
    "#Create a list to store and calculate student grades \n",
    "grades = [96,71,88,90,93]\n",
    "\n",
    "#Adding a new grade \n",
    "grades.append(56)\n",
    "print(grades)\n",
    "\n",
    "#Calculating the Average grades \n",
    "Avg_grades = sum(grades)/len(grades)\n",
    "print(f\"Average Grades:{Avg_grades:.2f}\") #Using a format specifier in which we will get this printed upto two decimal places.\n",
    "\n",
    "#Finding the highest and lowest grades \n",
    "Highest_grade = max(grades)\n",
    "print(Highest_grade)\n",
    "\n",
    "Lowest_grade = min(grades)\n",
    "print(Lowest_grade)"
   ]
  },
  {
   "cell_type": "code",
   "execution_count": 11,
   "metadata": {},
   "outputs": [
    {
     "name": "stdout",
     "output_type": "stream",
     "text": [
      "Oranges: Not in Inventory\n",
      "Inventory List:\n",
      "-Apple\n",
      "-Kiwi\n",
      "-Guava\n",
      "-Strawberries\n"
     ]
    }
   ],
   "source": [
    "#Managing Inventory in a Store\n",
    "Inventory = [\"Banana\",\"Apple\",\"Kiwi\",\"Guava\"]\n",
    "\n",
    "#Adding a new item(append)\n",
    "Inventory.append(\"Strawberries\")\n",
    "\n",
    "#Removing an item that's out of stock\n",
    "Inventory.remove(\"Banana\")\n",
    "\n",
    "#Checking if an item is in stock or not \n",
    "Item = \"Oranges\"\n",
    "if Item in Inventory:\n",
    "    print(f\"{Item}: It's in Inventory\")\n",
    "else:\n",
    "    print(f\"{Item}: Not in Inventory\")\n",
    "\n",
    "# Printing Inventory \n",
    "print(\"Inventory List:\")\n",
    "for item in Inventory:\n",
    "    print(f\"-{item}\")"
   ]
  },
  {
   "cell_type": "code",
   "execution_count": 12,
   "metadata": {},
   "outputs": [
    {
     "name": "stdout",
     "output_type": "stream",
     "text": [
      "Positive Feedback Count: 2\n",
      "User Feedback:\n",
      "- Great service!\n",
      "- Very satisfied\n",
      "- Could be better\n",
      "- Excellent experience\n",
      "- Not happy with the service\n"
     ]
    }
   ],
   "source": [
    "# Collecting user feedback\n",
    "feedback = [\"Great service!\", \"Very satisfied\", \"Could be better\", \"Excellent experience\"]\n",
    "\n",
    "# Adding new feedback\n",
    "feedback.append(\"Not happy with the service\")\n",
    "\n",
    "# Counting specific feedback\n",
    "positive_feedback_count = sum(1 for comment in feedback if \"great\" in comment.lower() or \"excellent\" in comment.lower())\n",
    "print(f\"Positive Feedback Count: {positive_feedback_count}\")\n",
    "\n",
    "# Printing all feedback\n",
    "print(\"User Feedback:\")\n",
    "for comment in feedback:\n",
    "    print(f\"- {comment}\")\n"
   ]
  }
 ],
 "metadata": {
  "kernelspec": {
   "display_name": "venv",
   "language": "python",
   "name": "python3"
  },
  "language_info": {
   "codemirror_mode": {
    "name": "ipython",
    "version": 3
   },
   "file_extension": ".py",
   "mimetype": "text/x-python",
   "name": "python",
   "nbconvert_exporter": "python",
   "pygments_lexer": "ipython3",
   "version": "3.11.9"
  }
 },
 "nbformat": 4,
 "nbformat_minor": 2
}
