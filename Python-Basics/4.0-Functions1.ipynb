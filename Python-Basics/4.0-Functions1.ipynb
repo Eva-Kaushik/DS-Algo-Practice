{
 "cells": [
  {
   "cell_type": "code",
   "execution_count": null,
   "id": "f87c8654",
   "metadata": {},
   "outputs": [],
   "source": [
    "#Functions in Python \n",
    "#Function is a block of code that helps us to perform a specific task. It helps us to organise code, reuse code and improves the readability.\n",
    "\n",
    "#syntax for writing a function \n",
    "def function_name(parameters):\n",
    "    \"\"\"Docstring\"\"\"\n",
    "    #Function body \n",
    "    return expression"
   ]
  },
  {
   "cell_type": "code",
   "execution_count": 2,
   "id": "26f9d968",
   "metadata": {},
   "outputs": [
    {
     "name": "stdout",
     "output_type": "stream",
     "text": [
      "The num is even\n"
     ]
    }
   ],
   "source": [
    "#Why do we actually need functions?\n",
    "\n",
    "num=24\n",
    "if num%2==0:\n",
    "    print(\"The num is even\")\n",
    "else:\n",
    "    print(\"The num is odd\")"
   ]
  },
  {
   "cell_type": "code",
   "execution_count": 3,
   "id": "d0b525ea",
   "metadata": {},
   "outputs": [],
   "source": [
    "#Same Code with Functions \n",
    "def even_or_odd(num):\n",
    "    \"\"\" This function performs even or odd\"\"\"\n",
    "    if num%2==0:\n",
    "        print(\"The num is even\")\n",
    "    else:\n",
    "        print(\"The num is odd\")"
   ]
  },
  {
   "cell_type": "code",
   "execution_count": 5,
   "id": "1881b02c",
   "metadata": {},
   "outputs": [
    {
     "name": "stdout",
     "output_type": "stream",
     "text": [
      "The num is odd\n"
     ]
    }
   ],
   "source": [
    "#Call the function\n",
    "even_or_odd(23)"
   ]
  },
  {
   "cell_type": "code",
   "execution_count": null,
   "id": "e0a63e3c",
   "metadata": {},
   "outputs": [
    {
     "name": "stdout",
     "output_type": "stream",
     "text": [
      "14\n"
     ]
    }
   ],
   "source": [
    "#Function with multiple parameters \n",
    "def add(a,b):\n",
    "    \"\"\" This function will be adding both the entities \"\"\"\n",
    "    return a+b\n",
    "\n",
    "result = add(4,10)\n",
    "print(result)"
   ]
  },
  {
   "cell_type": "code",
   "execution_count": 11,
   "id": "58bcaf3e",
   "metadata": {},
   "outputs": [
    {
     "data": {
      "text/plain": [
       "'Hello :D Anaya'"
      ]
     },
     "execution_count": 11,
     "metadata": {},
     "output_type": "execute_result"
    }
   ],
   "source": [
    "#Default Parameters in functions \n",
    "\n",
    "def Greet(name):    #This won't be in quote as here we are declaring a function variable \n",
    "    return(f\"Hello :D {name}\")\n",
    "\n",
    "Greet(\"Eva\")\n",
    "\n",
    "def Greet(name=\"Anaya\"):    #This won't be in quote as here we are declaring a function variable \n",
    "    return(f\"Hello :D {name}\")\n",
    "\n",
    "Greet()"
   ]
  },
  {
   "cell_type": "code",
   "execution_count": null,
   "id": "00d4a867",
   "metadata": {},
   "outputs": [],
   "source": [
    "#Variable length Arguments\n",
    "#Positional and keyword arguments \n",
    "\n",
    "#Syntax for positional arguments\n",
    "\n",
    "def print_numbers(*args):\n",
    "    for number in args:\n",
    "        print(number)\n",
    "\n",
    "        #\"Hey Python, this function can take as many numbers as someone wants to pass. Just collect them all in \n",
    "        # a tuple called args.\""
   ]
  },
  {
   "cell_type": "code",
   "execution_count": 13,
   "id": "1985b8f2",
   "metadata": {},
   "outputs": [
    {
     "name": "stdout",
     "output_type": "stream",
     "text": [
      "1\n",
      "2\n",
      "3\n",
      "4\n",
      "5\n",
      "Eva\n",
      "3.14\n"
     ]
    }
   ],
   "source": [
    "print_numbers(1,2,3,4,5,\"Eva\",3.14)"
   ]
  },
  {
   "cell_type": "code",
   "execution_count": 16,
   "id": "79dd44e5",
   "metadata": {},
   "outputs": [],
   "source": [
    "#Keyword Arguments \n",
    "def print_alpha(**kwargs):\n",
    "    for key,value in kwargs.items():\n",
    "        print(f\"{key}:{value}\")"
   ]
  },
  {
   "cell_type": "code",
   "execution_count": 17,
   "id": "f16810ed",
   "metadata": {},
   "outputs": [
    {
     "name": "stdout",
     "output_type": "stream",
     "text": [
      "name:eva\n",
      "age:24\n",
      "height:5.8\n"
     ]
    }
   ],
   "source": [
    "print_alpha(name=\"eva\",age=\"24\",height=\"5.8\")"
   ]
  },
  {
   "cell_type": "code",
   "execution_count": null,
   "id": "6809afac",
   "metadata": {},
   "outputs": [],
   "source": [
    "#Keyword Arguments \n",
    "def print_alpha(*args,**kwargs):\n",
    "    for val in args:\n",
    "        print(f\" Positional Argument {val}\")\n",
    "\n",
    "    for key,value in kwargs.items():\n",
    "        print(f\"{key}:{value}\")"
   ]
  },
  {
   "cell_type": "code",
   "execution_count": 20,
   "id": "7f7ea8fd",
   "metadata": {},
   "outputs": [
    {
     "name": "stdout",
     "output_type": "stream",
     "text": [
      " Positional Argument 1\n",
      " Positional Argument 2\n",
      " Positional Argument 4\n",
      " Positional Argument Eva\n",
      "name:Krish\n",
      "age:28\n",
      "country:India\n"
     ]
    }
   ],
   "source": [
    "print_alpha(1,2,4,\"Eva\",name=\"Krish\",age=\"28\",country=\"India\")"
   ]
  },
  {
   "cell_type": "code",
   "execution_count": null,
   "id": "a228d9b8",
   "metadata": {},
   "outputs": [
    {
     "data": {
      "text/plain": [
       "6"
      ]
     },
     "execution_count": 21,
     "metadata": {},
     "output_type": "execute_result"
    }
   ],
   "source": [
    "#Return Statements \n",
    "def multiply(a,b):\n",
    "    return a*b\n",
    "\n",
    "multiply(3,2)"
   ]
  },
  {
   "cell_type": "code",
   "execution_count": null,
   "id": "c67a5ba8",
   "metadata": {},
   "outputs": [
    {
     "data": {
      "text/plain": [
       "(6, 3)"
      ]
     },
     "execution_count": 22,
     "metadata": {},
     "output_type": "execute_result"
    }
   ],
   "source": [
    "#Return multiple parameters  \n",
    "def multiply(a,b):\n",
    "    return a*b,a\n",
    "\n",
    "multiply(3,2)"
   ]
  },
  {
   "cell_type": "code",
   "execution_count": null,
   "id": "9894143d",
   "metadata": {},
   "outputs": [
    {
     "name": "stdout",
     "output_type": "stream",
     "text": [
      "53.6\n",
      "25.0\n"
     ]
    }
   ],
   "source": [
    "#Functions real-case examples \n",
    "#Question 1: \n",
    "\"\"\" This function converts the temperature between Celcius and Farenheit\"\"\"\n",
    "def temp_conversion(temp,unit):\n",
    "    if unit == 'C':\n",
    "        return temp*9/5+32 # C to F\n",
    "    elif unit == 'F':\n",
    "        return (temp -32)*5/9 # F to C \n",
    "    else:\n",
    "        return None\n",
    "    \n",
    "print(temp_conversion(12,'C'))\n",
    "print(temp_conversion(77,'F'))"
   ]
  },
  {
   "cell_type": "code",
   "execution_count": 33,
   "id": "c8324270",
   "metadata": {},
   "outputs": [
    {
     "name": "stdout",
     "output_type": "stream",
     "text": [
      "False\n",
      "True\n"
     ]
    }
   ],
   "source": [
    "def is_strong_password(password):\n",
    "    \"\"\"This function checks if the password is strong or not\"\"\"\n",
    "    if len(password)<8:\n",
    "        return False\n",
    "    if not any(char.isdigit() for char in password):\n",
    "        return False\n",
    "    if not any(char.islower() for char in password):\n",
    "        return False\n",
    "    if not any(char.isupper() for char in password):\n",
    "        return False\n",
    "    if not any(char in '!@#$%^&*()_+' for char in password):\n",
    "        return False\n",
    "    return True\n",
    "\n",
    "## calling the function\n",
    "print(is_strong_password(\"WeakPwd\"))\n",
    "print(is_strong_password(\"Str0ngPwd!\"))\n",
    "    "
   ]
  },
  {
   "cell_type": "code",
   "execution_count": 38,
   "id": "eb18a460",
   "metadata": {},
   "outputs": [
    {
     "name": "stdout",
     "output_type": "stream",
     "text": [
      "5.8999999999999995\n"
     ]
    }
   ],
   "source": [
    "def calculate_total_cost(cart):\n",
    "    total_cost=0\n",
    "    for item in cart:\n",
    "        total_cost+=item['price']* item['quantity']\n",
    "\n",
    "    return total_cost\n",
    "\n",
    "\n",
    "## Example cart data\n",
    "\n",
    "cart=[\n",
    "    {'name':'Apple','price':0.5,'quantity':4},\n",
    "    {'name':'Banana','price':0.3,'quantity':6},\n",
    "    {'name':'Orange','price':0.7,'quantity':3}\n",
    "\n",
    "]\n",
    "\n",
    "## calling the function\n",
    "total_cost=calculate_total_cost(cart)\n",
    "print(total_cost)"
   ]
  },
  {
   "cell_type": "code",
   "execution_count": null,
   "id": "896b700d",
   "metadata": {},
   "outputs": [],
   "source": [
    "#Check if a string is palindrome or not \n"
   ]
  }
 ],
 "metadata": {
  "kernelspec": {
   "display_name": "venv",
   "language": "python",
   "name": "python3"
  },
  "language_info": {
   "codemirror_mode": {
    "name": "ipython",
    "version": 3
   },
   "file_extension": ".py",
   "mimetype": "text/x-python",
   "name": "python",
   "nbconvert_exporter": "python",
   "pygments_lexer": "ipython3",
   "version": "3.11.9"
  }
 },
 "nbformat": 4,
 "nbformat_minor": 5
}
